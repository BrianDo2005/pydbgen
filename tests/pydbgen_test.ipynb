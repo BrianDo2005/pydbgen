{
 "cells": [
  {
   "cell_type": "code",
   "execution_count": 1,
   "metadata": {},
   "outputs": [],
   "source": [
    "from pydbgen import pydb"
   ]
  },
  {
   "cell_type": "code",
   "execution_count": 2,
   "metadata": {},
   "outputs": [],
   "source": [
    "myDB=pydb()"
   ]
  },
  {
   "cell_type": "code",
   "execution_count": 3,
   "metadata": {},
   "outputs": [
    {
     "name": "stdout",
     "output_type": "stream",
     "text": [
      "887-444-9825\n",
      "490-649-6168\n",
      "582-862-0113\n",
      "111-156-1848\n",
      "144-088-8018\n",
      "326-391-5728\n",
      "639-441-2962\n",
      "695-723-7108\n",
      "329-504-6859\n",
      "949-008-7779\n"
     ]
    }
   ],
   "source": [
    "for _ in range(10):\n",
    "    print(myDB.simple_ph_num())"
   ]
  },
  {
   "cell_type": "code",
   "execution_count": 4,
   "metadata": {},
   "outputs": [
    {
     "name": "stdout",
     "output_type": "stream",
     "text": [
      "BLU-8148\n",
      "EJB-5025\n",
      "EFQ-011\n",
      "2ZIL229\n",
      "YUV-0203\n",
      "CWC-1152\n",
      "BWC-477\n",
      "JAI-7274\n",
      "7KUI941\n",
      "YBL-9092\n"
     ]
    }
   ],
   "source": [
    "for _ in range(10):\n",
    "    print(myDB.license_plate())"
   ]
  },
  {
   "cell_type": "code",
   "execution_count": 5,
   "metadata": {},
   "outputs": [
    {
     "name": "stdout",
     "output_type": "stream",
     "text": [
      "Tirtha.S@mail.com\n",
      "TSarkar22@outlook.com\n",
      "TirthaSarkar@protonmail.com\n",
      "Sarkar.Tirtha@protonmail.com\n",
      "Tirtha.Sarkar@verizon.com\n",
      "Tirtha_Sarkar@gmail.com\n",
      "Tirtha_Sarkar@gmail.com\n",
      "TSarkar69@yahoo.com\n",
      "Tirtha_S@zoho.com\n",
      "TirthaSarkar@att.com\n"
     ]
    }
   ],
   "source": [
    "for _ in range(10):\n",
    "    print(myDB.realistic_email('Tirtha Sarkar'))"
   ]
  },
  {
   "cell_type": "code",
   "execution_count": 6,
   "metadata": {},
   "outputs": [
    {
     "name": "stdout",
     "output_type": "stream",
     "text": [
      "Redland\n",
      "Swannanoa\n",
      "El Granada\n",
      "Carrabassett\n",
      "White Signal\n",
      "Mannington\n",
      "Mentmore\n",
      "Onawa\n",
      "East Keansburg\n",
      "Harriet\n"
     ]
    }
   ],
   "source": [
    "for _ in range(10):\n",
    "    print(myDB.city_real())"
   ]
  },
  {
   "cell_type": "code",
   "execution_count": 7,
   "metadata": {},
   "outputs": [
    {
     "name": "stdout",
     "output_type": "stream",
     "text": [
      "0    Joel Hernandez\n",
      "1       Lisa Gamble\n",
      "2        Linda Lang\n",
      "3     Bethany Brown\n",
      "4    Shane Castillo\n",
      "dtype: object\n"
     ]
    }
   ],
   "source": [
    "se=myDB.gen_data_series(num=5)\n",
    "print(se)"
   ]
  },
  {
   "cell_type": "code",
   "execution_count": 8,
   "metadata": {},
   "outputs": [
    {
     "name": "stdout",
     "output_type": "stream",
     "text": [
      "Please input a positive integer for the number of examples\n",
      "None\n"
     ]
    }
   ],
   "source": [
    "se=myDB.gen_data_series(num=-2)\n",
    "print(se)"
   ]
  },
  {
   "cell_type": "code",
   "execution_count": 9,
   "metadata": {},
   "outputs": [
    {
     "name": "stdout",
     "output_type": "stream",
     "text": [
      "0    Alexandra Mitchell\n",
      "1             Paul Rice\n",
      "dtype: object\n"
     ]
    }
   ],
   "source": [
    "se=myDB.gen_data_series(num=2.3)\n",
    "print(se)"
   ]
  },
  {
   "cell_type": "code",
   "execution_count": 10,
   "metadata": {},
   "outputs": [
    {
     "name": "stdout",
     "output_type": "stream",
     "text": [
      "Please input a positive integer for the number of examples\n",
      "None\n"
     ]
    }
   ],
   "source": [
    "se=myDB.gen_data_series(num=-2.3)\n",
    "print(se)"
   ]
  },
  {
   "cell_type": "code",
   "execution_count": 11,
   "metadata": {},
   "outputs": [
    {
     "name": "stdout",
     "output_type": "stream",
     "text": [
      "Number of samples not understood, terminating...\n",
      "None\n"
     ]
    }
   ],
   "source": [
    "se=myDB.gen_data_series(num='hello')\n",
    "print(se)"
   ]
  },
  {
   "cell_type": "code",
   "execution_count": 12,
   "metadata": {},
   "outputs": [
    {
     "name": "stdout",
     "output_type": "stream",
     "text": [
      "Number of samples not understood, terminating...\n",
      "None\n"
     ]
    }
   ],
   "source": [
    "se=myDB.gen_data_series(num=[2,3])\n",
    "print(se)"
   ]
  },
  {
   "cell_type": "code",
   "execution_count": 13,
   "metadata": {},
   "outputs": [
    {
     "name": "stdout",
     "output_type": "stream",
     "text": [
      "0    1994-04-21\n",
      "1    2000-12-26\n",
      "2    1975-04-22\n",
      "3    1984-05-26\n",
      "4    1974-08-07\n",
      "5    1978-08-06\n",
      "6    2002-06-17\n",
      "7    1984-10-20\n",
      "8    1987-01-02\n",
      "9    1998-04-12\n",
      "dtype: object\n"
     ]
    }
   ],
   "source": [
    "se=myDB.gen_data_series(data_type='date')\n",
    "print(se)"
   ]
  },
  {
   "cell_type": "code",
   "execution_count": 14,
   "metadata": {},
   "outputs": [
    {
     "name": "stdout",
     "output_type": "stream",
     "text": [
      "Data type not understood. No series generated\n",
      "None\n"
     ]
    }
   ],
   "source": [
    "se=myDB.gen_data_series(data_type=12)\n",
    "print(se)"
   ]
  },
  {
   "cell_type": "code",
   "execution_count": 15,
   "metadata": {},
   "outputs": [
    {
     "data": {
      "text/html": [
       "<div>\n",
       "<style>\n",
       "    .dataframe thead tr:only-child th {\n",
       "        text-align: right;\n",
       "    }\n",
       "\n",
       "    .dataframe thead th {\n",
       "        text-align: left;\n",
       "    }\n",
       "\n",
       "    .dataframe tbody tr th {\n",
       "        vertical-align: top;\n",
       "    }\n",
       "</style>\n",
       "<table border=\"1\" class=\"dataframe\">\n",
       "  <thead>\n",
       "    <tr style=\"text-align: right;\">\n",
       "      <th></th>\n",
       "      <th>name</th>\n",
       "      <th>ssn</th>\n",
       "      <th>job_title</th>\n",
       "    </tr>\n",
       "  </thead>\n",
       "  <tbody>\n",
       "    <tr>\n",
       "      <th>0</th>\n",
       "      <td>Steven Butler</td>\n",
       "      <td>717-95-2572</td>\n",
       "      <td>Midwife</td>\n",
       "    </tr>\n",
       "    <tr>\n",
       "      <th>1</th>\n",
       "      <td>Nancy Graves</td>\n",
       "      <td>468-84-0874</td>\n",
       "      <td>Herbalist</td>\n",
       "    </tr>\n",
       "    <tr>\n",
       "      <th>2</th>\n",
       "      <td>Lauren Castillo</td>\n",
       "      <td>014-10-3254</td>\n",
       "      <td>Geneticist, molecular</td>\n",
       "    </tr>\n",
       "    <tr>\n",
       "      <th>3</th>\n",
       "      <td>Nicole Mcdaniel</td>\n",
       "      <td>789-48-7745</td>\n",
       "      <td>Conference centre manager</td>\n",
       "    </tr>\n",
       "    <tr>\n",
       "      <th>4</th>\n",
       "      <td>Ashley Lee</td>\n",
       "      <td>199-20-7685</td>\n",
       "      <td>Public relations officer</td>\n",
       "    </tr>\n",
       "    <tr>\n",
       "      <th>5</th>\n",
       "      <td>Mason Farley</td>\n",
       "      <td>049-72-2079</td>\n",
       "      <td>Company secretary</td>\n",
       "    </tr>\n",
       "    <tr>\n",
       "      <th>6</th>\n",
       "      <td>Jonathan Bond</td>\n",
       "      <td>038-80-8005</td>\n",
       "      <td>Clinical psychologist</td>\n",
       "    </tr>\n",
       "    <tr>\n",
       "      <th>7</th>\n",
       "      <td>Patrick Waters MD</td>\n",
       "      <td>495-72-6656</td>\n",
       "      <td>Journalist, magazine</td>\n",
       "    </tr>\n",
       "    <tr>\n",
       "      <th>8</th>\n",
       "      <td>Katherine Mora</td>\n",
       "      <td>003-32-9889</td>\n",
       "      <td>Solicitor, Scotland</td>\n",
       "    </tr>\n",
       "    <tr>\n",
       "      <th>9</th>\n",
       "      <td>Cheyenne Parker</td>\n",
       "      <td>409-77-7577</td>\n",
       "      <td>Interior and spatial designer</td>\n",
       "    </tr>\n",
       "  </tbody>\n",
       "</table>\n",
       "</div>"
      ],
      "text/plain": [
       "                name          ssn                      job_title\n",
       "0      Steven Butler  717-95-2572                        Midwife\n",
       "1       Nancy Graves  468-84-0874                      Herbalist\n",
       "2    Lauren Castillo  014-10-3254          Geneticist, molecular\n",
       "3    Nicole Mcdaniel  789-48-7745      Conference centre manager\n",
       "4         Ashley Lee  199-20-7685       Public relations officer\n",
       "5       Mason Farley  049-72-2079              Company secretary\n",
       "6      Jonathan Bond  038-80-8005          Clinical psychologist\n",
       "7  Patrick Waters MD  495-72-6656           Journalist, magazine\n",
       "8     Katherine Mora  003-32-9889            Solicitor, Scotland\n",
       "9    Cheyenne Parker  409-77-7577  Interior and spatial designer"
      ]
     },
     "execution_count": 15,
     "metadata": {},
     "output_type": "execute_result"
    }
   ],
   "source": [
    "testdf=myDB.gen_dataframe(fields=['name','ssn','job_title'])\n",
    "testdf"
   ]
  },
  {
   "cell_type": "code",
   "execution_count": 16,
   "metadata": {},
   "outputs": [
    {
     "name": "stdout",
     "output_type": "stream",
     "text": [
      "Please input a positive integer for the number of examples\n"
     ]
    }
   ],
   "source": [
    "testdf=myDB.gen_dataframe(-4,fields=['name','email','city'])\n",
    "testdf"
   ]
  },
  {
   "cell_type": "code",
   "execution_count": 17,
   "metadata": {},
   "outputs": [
    {
     "data": {
      "text/html": [
       "<div>\n",
       "<style>\n",
       "    .dataframe thead tr:only-child th {\n",
       "        text-align: right;\n",
       "    }\n",
       "\n",
       "    .dataframe thead th {\n",
       "        text-align: left;\n",
       "    }\n",
       "\n",
       "    .dataframe tbody tr th {\n",
       "        vertical-align: top;\n",
       "    }\n",
       "</style>\n",
       "<table border=\"1\" class=\"dataframe\">\n",
       "  <thead>\n",
       "    <tr style=\"text-align: right;\">\n",
       "      <th></th>\n",
       "      <th>name</th>\n",
       "      <th>email</th>\n",
       "      <th>city</th>\n",
       "    </tr>\n",
       "  </thead>\n",
       "  <tbody>\n",
       "    <tr>\n",
       "      <th>0</th>\n",
       "      <td>Gerald Stewart</td>\n",
       "      <td>GStewart54@verizon.com</td>\n",
       "      <td>Point Arena</td>\n",
       "    </tr>\n",
       "    <tr>\n",
       "      <th>1</th>\n",
       "      <td>Christopher Neal</td>\n",
       "      <td>Neal.Christopher@outlook.com</td>\n",
       "      <td>Sumrall</td>\n",
       "    </tr>\n",
       "    <tr>\n",
       "      <th>2</th>\n",
       "      <td>Bryan Hall</td>\n",
       "      <td>Bryan.Hall@comcast.net</td>\n",
       "      <td>Westel</td>\n",
       "    </tr>\n",
       "    <tr>\n",
       "      <th>3</th>\n",
       "      <td>Adam Bates</td>\n",
       "      <td>Adam.Bates@att.com</td>\n",
       "      <td>Girardville</td>\n",
       "    </tr>\n",
       "    <tr>\n",
       "      <th>4</th>\n",
       "      <td>Joshua Vincent</td>\n",
       "      <td>Joshua_V69@yandex.com</td>\n",
       "      <td>Narberth</td>\n",
       "    </tr>\n",
       "  </tbody>\n",
       "</table>\n",
       "</div>"
      ],
      "text/plain": [
       "               name                         email         city\n",
       "0    Gerald Stewart        GStewart54@verizon.com  Point Arena\n",
       "1  Christopher Neal  Neal.Christopher@outlook.com      Sumrall\n",
       "2        Bryan Hall        Bryan.Hall@comcast.net       Westel\n",
       "3        Adam Bates            Adam.Bates@att.com  Girardville\n",
       "4    Joshua Vincent         Joshua_V69@yandex.com     Narberth"
      ]
     },
     "execution_count": 17,
     "metadata": {},
     "output_type": "execute_result"
    }
   ],
   "source": [
    "testdf=myDB.gen_dataframe('5',fields=['name','email','city'])\n",
    "testdf"
   ]
  },
  {
   "cell_type": "code",
   "execution_count": null,
   "metadata": {},
   "outputs": [],
   "source": [
    "myDB.gen_table(20,fields=['name','city','job_title','phone','company'],\n",
    "          db_file='TestDB.db',table_name='People')"
   ]
  },
  {
   "cell_type": "code",
   "execution_count": null,
   "metadata": {},
   "outputs": [],
   "source": [
    "myDB.gen_excel(15,fields=['name','year','email','license_plate'],filename='TestExcel.xlsx')"
   ]
  },
  {
   "cell_type": "code",
   "execution_count": null,
   "metadata": {},
   "outputs": [],
   "source": [
    "myDB.gen_table(20,fields=['name','city','job_title','phone','company'],\n",
    "          db_file='TestDB.db',table_name='People', primarykey='age')"
   ]
  },
  {
   "cell_type": "code",
   "execution_count": null,
   "metadata": {},
   "outputs": [],
   "source": [
    "myDB.gen_table(20,fields=['name','city','job_title','phone','company'],\n",
    "          db_file='TestDB.db',table_name='People', primarykey=12)"
   ]
  },
  {
   "cell_type": "code",
   "execution_count": null,
   "metadata": {},
   "outputs": [],
   "source": [
    "myDB.gen_table(20,fields=['name','city','job_title','phone','company','email'],\n",
    "          db_file='TestDB.db',table_name='People', primarykey='city',real_city=True,real_email=False,phone_simple=False)"
   ]
  },
  {
   "cell_type": "code",
   "execution_count": null,
   "metadata": {},
   "outputs": [],
   "source": []
  }
 ],
 "metadata": {
  "kernelspec": {
   "display_name": "Python 3",
   "language": "python",
   "name": "python3"
  },
  "language_info": {
   "codemirror_mode": {
    "name": "ipython",
    "version": 3
   },
   "file_extension": ".py",
   "mimetype": "text/x-python",
   "name": "python",
   "nbconvert_exporter": "python",
   "pygments_lexer": "ipython3",
   "version": "3.6.2"
  },
  "latex_envs": {
   "LaTeX_envs_menu_present": true,
   "autoclose": false,
   "autocomplete": true,
   "bibliofile": "biblio.bib",
   "cite_by": "apalike",
   "current_citInitial": 1,
   "eqLabelWithNumbers": true,
   "eqNumInitial": 1,
   "hotkeys": {
    "equation": "Ctrl-E",
    "itemize": "Ctrl-I"
   },
   "labels_anchors": false,
   "latex_user_defs": false,
   "report_style_numbering": false,
   "user_envs_cfg": false
  }
 },
 "nbformat": 4,
 "nbformat_minor": 2
}
